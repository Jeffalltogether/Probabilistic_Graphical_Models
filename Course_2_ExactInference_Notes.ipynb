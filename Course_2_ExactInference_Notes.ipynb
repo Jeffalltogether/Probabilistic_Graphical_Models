{
 "cells": [
  {
   "cell_type": "markdown",
   "metadata": {
    "collapsed": true
   },
   "source": [
    "# Course 2\n",
    "## Notes for \n",
    "## Honors Programming Assignment: Exact Inference\n",
    "\n",
    "We need to understand the following concepts:  \n",
    "\n",
    "\n",
    "Cluster Graph $C$  \n",
    "Factor $\\phi_k \\in \\Phi$  \n",
    "\n",
    "How to construct a Clique Tree $C$  \n",
    "\n",
    "\n",
    "how to assign a factor to a clique Clique $C_{\\alpha(k)}$ such that the scope of the factor is a subset of the clique * the ____   \n",
    "$$Scope[\\phi_k] \\subseteq  C_{alpha(k)}*\\alpha(k)$$  \n",
    "\n",
    "How to compute Initial Potentiala\n",
    "$$\\psi_i(C_i)=\\prod_{k:\\alpha(k)=i}\\psi_k$$\n",
    "\n",
    "Designate an arbitrary clique as the root\n",
    "\n",
    "Pass messages from the root down towards the leaves\n",
    "\n",
    "Compute the beliefs for each clique\n",
    "$$\\beta_i(C_i)=\\psi_i \\times \\prod_{k \\in N_i}\\delta_{k \\rightarrow i}$$\n",
    "\n",
    "\n",
    "\n",
    "## Week 2: Message Passing in Cluster Graphs\n",
    "### Lecture 1. Belief Propagation Algorithm\n",
    "\n",
    "A culter graph is an undirected graph such that \n",
    "* nodes are clusters that are basically joint distributions of the factors they contain $C_i \\subseteq \\{X_1,...,X_n\\}$\n",
    "* edges between $C_i$ and $C_j$ associated with sepsets $S_{i,j} \\subseteq C_i \\cap C_j$  \n",
    "* given a set of factors $\\Phi$, we assign each $|phi_k$ to a cluster $C_{alpha(k)}*\\alpha(k)$ s.t. $Scope[\\phi_k] \\subseteq  C_{alpha(k)}*\\alpha(k)$ \n",
    "* the factor that represents a cluster $\\psi_i(C_i)$ or \"initial beliefs\" is just a product of all the factors assigned to the cluster $\\psi_i(C_i)=\\prod_{k:\\alpha(k)=i} \\phi_k$\n",
    "\n",
    "$S_{i,j}$ is a **sepset** which are all the variables that $C_i$ and $C_j$ \"talk about\", *NOT* all the variables they have in common.  \n",
    "$$S_{i,j} \\subseteq C_i \\cap C_j$$  \n",
    "\n",
    "At time = 10:50 we learn how to assign a factor to a cluster in a pre-defined cluster graph.\n"
   ]
  },
  {
   "cell_type": "markdown",
   "metadata": {},
   "source": [
    "### Lecture 2. Message Passing in Cluster Graph\n",
    "\n",
    "Video: Cliquie Trees and VE:\n",
    "\n",
    "Generating a clique tree from a BN is explained in this video.\n",
    "\n",
    "The technique described follows the steps of Variable Elimination \n",
    "\n",
    "Once complete we remove redundant Cliques\n",
    "\n"
   ]
  }
 ],
 "metadata": {
  "kernelspec": {
   "display_name": "Python 3 (ipykernel)",
   "language": "python",
   "name": "python3"
  },
  "language_info": {
   "codemirror_mode": {
    "name": "ipython",
    "version": 3
   },
   "file_extension": ".py",
   "mimetype": "text/x-python",
   "name": "python",
   "nbconvert_exporter": "python",
   "pygments_lexer": "ipython3",
   "version": "3.8.18"
  }
 },
 "nbformat": 4,
 "nbformat_minor": 2
}
